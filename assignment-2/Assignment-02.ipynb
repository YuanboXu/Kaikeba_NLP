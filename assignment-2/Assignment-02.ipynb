{
 "cells": [
  {
   "cell_type": "markdown",
   "metadata": {},
   "source": [
    "## Assignments for Week-02"
   ]
  },
  {
   "cell_type": "markdown",
   "metadata": {},
   "source": [
    "In this course, we learnt what's the search problem and what's the machine leanring. In this assignment, we need you do some more practice."
   ]
  },
  {
   "cell_type": "markdown",
   "metadata": {},
   "source": [
    "### 1. Re-code the house price machine learning\n",
    "\n",
    "###### 1. Random Choose Method to get optimal *k* and *b*\n",
    "###### 2.Supervised Direction to get optimal *k* and *b*\n",
    "###### 3.Gradient Descent to get optimal *k* and *b*\n",
    "###### 4. Try different Loss function and learning rate. \n",
    "\n",
    "For example, you can change the loss function: $Loss = \\frac{1}{n} sum({y_i - \\hat{y_i}})^2$ to $Loss = \\frac{1}{n} sum(|{y_i - \\hat{y_i}}|)$\n",
    "\n",
    "And you can change the learning rate and observe the performance."
   ]
  },
  {
   "cell_type": "markdown",
   "metadata": {},
   "source": [
    "![](https://timgsa.baidu.com/timg?image&quality=80&size=b9999_10000&sec=1562414412237&di=8377c38d7b50c6f8d45b92ccc78dc1e7&imgtype=0&src=http%3A%2F%2Fmmbiz.qpic.cn%2Fmmbiz_jpg%2FlSyiavfm6wPgQDuDYa42IMgSkLOcPJU91RbkMibGy7VHLrhhNVLibTYk1iaLcmXKTdHc4icTDVia59QFXwqpW8cLflaw%2F640%3Fwx_fmt%3Djpeg)"
   ]
  },
  {
   "cell_type": "code",
   "execution_count": 4,
   "metadata": {},
   "outputs": [],
   "source": [
    "from sklearn.datasets import load_boston\n",
    "import random"
   ]
  },
  {
   "cell_type": "code",
   "execution_count": 9,
   "metadata": {},
   "outputs": [],
   "source": [
    "data = load_boston()\n",
    "X, y = data['data'],data['target']\n",
    "X_rm = X[:, 5]"
   ]
  },
  {
   "cell_type": "code",
   "execution_count": 10,
   "metadata": {},
   "outputs": [],
   "source": [
    "def price(rm, k, b):\n",
    "    return k*rm + b"
   ]
  },
  {
   "cell_type": "code",
   "execution_count": 11,
   "metadata": {},
   "outputs": [],
   "source": [
    "def loss(y, y_hat): # to evaluate the performance \n",
    "    return sum((y_i - y_hat_i)**2 for y_i, y_hat_i in zip(list(y), list(y_hat))) / len(list(y))"
   ]
  },
  {
   "cell_type": "markdown",
   "metadata": {},
   "source": [
    "#### 1.1 Random Choose Method"
   ]
  },
  {
   "cell_type": "code",
   "execution_count": 24,
   "metadata": {},
   "outputs": [
    {
     "name": "stdout",
     "output_type": "stream",
     "text": [
      "When time is : 0, get best_k: -86.6735271056841 best_b: 53.517373063333736, and the loss is: 268478.3691319631\n",
      "When time is : 1, get best_k: 63.671806479311215 best_b: 9.88677177557949, and the loss is: 151673.21620973235\n",
      "When time is : 4, get best_k: 63.48192046494921 best_b: -63.04606376347155, and the loss is: 99708.72751215007\n",
      "When time is : 5, get best_k: 59.00239454689884 best_b: -40.09165220416644, and the loss is: 96247.82028472373\n",
      "When time is : 6, get best_k: 35.81202313055573 best_b: -79.13131069540623, and the loss is: 15622.993355948181\n",
      "When time is : 7, get best_k: -4.879669013708849 best_b: 10.815670126812279, and the loss is: 1936.3271457825908\n",
      "When time is : 28, get best_k: -7.272484050599928 best_b: 38.65318035502199, and the loss is: 1050.9499630829155\n",
      "When time is : 36, get best_k: 2.193845948674266 best_b: -12.26029969032048, and the loss is: 508.3486434624253\n",
      "When time is : 91, get best_k: 12.887292839462859 best_b: -68.76000057581916, and the loss is: 156.76789394733132\n",
      "When time is : 310, get best_k: -1.2841269246610238 best_b: 32.95675055210452, and the loss is: 102.28929513024526\n",
      "When time is : 357, get best_k: -1.3198008619599477 best_b: 29.294896922089407, and the loss is: 99.46341026936763\n",
      "When time is : 403, get best_k: 5.437286940363677 best_b: -9.11567632045822, and the loss is: 56.58281466352216\n",
      "When time is : 589, get best_k: 12.440057144509481 best_b: -55.91890736978051, and the loss is: 49.163283340891\n"
     ]
    }
   ],
   "source": [
    "trying_times = 2000\n",
    "\n",
    "min_loss = float('inf')\n",
    "best_k, best_b = None, None\n",
    "\n",
    "for i in range(trying_times):\n",
    "    k = random.random() * 200 - 100\n",
    "    b = random.random() * 200 - 100\n",
    "    price_by_random_k_and_b = [price(r, k, b) for r in X_rm]\n",
    "\n",
    "    current_loss = loss(y, price_by_random_k_and_b)\n",
    "    \n",
    "    if current_loss < min_loss:\n",
    "        min_loss = current_loss\n",
    "        best_k, best_b = k, b\n",
    "        print('When time is : {}, get best_k: {} best_b: {}, and the loss is: {}'.format(i, best_k, best_b, min_loss))"
   ]
  },
  {
   "cell_type": "markdown",
   "metadata": {},
   "source": [
    "#### 1.2 Supervised Direction Method"
   ]
  },
  {
   "cell_type": "code",
   "execution_count": 35,
   "metadata": {},
   "outputs": [
    {
     "name": "stdout",
     "output_type": "stream",
     "text": [
      "When time is : 13, get best_k: 29.787016058914276 best_b: -26.00449644088559, and the loss is: 19481.891548714084\n",
      "When time is : 23, get best_k: 28.78701605891426 best_b: -25.004496440885575, and the loss is: 18024.360236984896\n",
      "When time is : 33, get best_k: 27.787016058914247 best_b: -24.00449644088556, and the loss is: 16623.669036903924\n",
      "When time is : 43, get best_k: 26.787016058914233 best_b: -23.004496440885546, and the loss is: 15279.817948471182\n",
      "When time is : 53, get best_k: 25.78701605891422 best_b: -22.004496440885532, and the loss is: 13992.80697168667\n",
      "When time is : 63, get best_k: 24.787016058914205 best_b: -21.004496440885518, and the loss is: 12762.636106550362\n",
      "When time is : 73, get best_k: 23.78701605891419 best_b: -20.004496440885504, and the loss is: 11589.30535306228\n",
      "When time is : 83, get best_k: 22.787016058914176 best_b: -19.00449644088549, and the loss is: 10472.814711222436\n",
      "When time is : 93, get best_k: 21.787016058914162 best_b: -18.004496440885475, and the loss is: 9413.164181030823\n",
      "When time is : 103, get best_k: 20.787016058914148 best_b: -17.00449644088546, and the loss is: 8410.353762487408\n",
      "When time is : 113, get best_k: 19.787016058914134 best_b: -16.004496440885447, and the loss is: 7464.3834555922285\n",
      "When time is : 123, get best_k: 18.78701605891412 best_b: -15.00449644088545, and the loss is: 6575.253260345264\n",
      "When time is : 133, get best_k: 17.787016058914105 best_b: -14.004496440885454, and the loss is: 5742.96317674652\n",
      "When time is : 143, get best_k: 16.78701605891409 best_b: -13.004496440885458, and the loss is: 4967.513204796009\n",
      "When time is : 153, get best_k: 15.787016058914082 best_b: -12.004496440885461, and the loss is: 4248.9033444937195\n",
      "When time is : 163, get best_k: 14.787016058914086 best_b: -11.004496440885465, and the loss is: 3587.133595839663\n",
      "When time is : 173, get best_k: 13.787016058914089 best_b: -10.004496440885468, and the loss is: 2982.2039588338293\n",
      "When time is : 183, get best_k: 12.787016058914093 best_b: -9.004496440885472, and the loss is: 2434.1144334762116\n",
      "When time is : 193, get best_k: 11.787016058914096 best_b: -8.004496440885475, and the loss is: 1942.8650197668196\n",
      "When time is : 203, get best_k: 10.7870160589141 best_b: -7.004496440885479, and the loss is: 1508.4557177056474\n",
      "When time is : 213, get best_k: 9.787016058914103 best_b: -6.004496440885482, and the loss is: 1130.8865272926969\n",
      "When time is : 223, get best_k: 8.787016058914107 best_b: -5.004496440885486, and the loss is: 810.1574485279663\n",
      "When time is : 233, get best_k: 7.78701605891411 best_b: -4.0044964408854895, and the loss is: 546.2684814114573\n",
      "When time is : 243, get best_k: 6.787016058914114 best_b: -3.0044964408854886, and the loss is: 339.2196259431695\n",
      "When time is : 253, get best_k: 5.7870160589141175 best_b: -2.0044964408854877, and the loss is: 189.01088212310134\n",
      "When time is : 263, get best_k: 4.787016058914121 best_b: -1.0044964408854868, and the loss is: 95.64224995125477\n",
      "When time is : 273, get best_k: 3.7870160589141233 best_b: -0.00449644088548698, and the loss is: 59.113729427629124\n"
     ]
    }
   ],
   "source": [
    "trying_times = 2000\n",
    "\n",
    "min_loss = float('inf')\n",
    "\n",
    "best_k = random.random() * 200 - 100\n",
    "best_b = random.random() * 200 - 100\n",
    "\n",
    "direction = [\n",
    "    (+1, -1),  # first element: k's change direction, second element: b's change direction\n",
    "    (+1, +1), \n",
    "    (-1, -1), \n",
    "    (-1, +1),\n",
    "]\n",
    "\n",
    "next_direction = random.choice(direction)\n",
    "\n",
    "scalar = 0.1\n",
    "\n",
    "update_time = 0\n",
    "\n",
    "for i in range(trying_times):\n",
    "    \n",
    "    k_direction, b_direction = next_direction\n",
    "    \n",
    "    current_k, current_b = best_k + k_direction * scalar, best_b + b_direction * scalar\n",
    "    \n",
    "    price_by_k_and_b = [price(r, current_k, current_b) for r in X_rm]\n",
    "\n",
    "    current_loss = loss(y, price_by_k_and_b)\n",
    "    \n",
    "    if current_loss < min_loss: # performance became better\n",
    "        min_loss = current_loss\n",
    "        best_k, best_b = current_k, current_b\n",
    "        \n",
    "        next_direction = next_direction\n",
    "        update_time += 1\n",
    "        \n",
    "        if update_time % 10 == 0: \n",
    "            print('When time is : {}, get best_k: {} best_b: {}, and the loss is: {}'.format(i, best_k, best_b, min_loss))\n",
    "    else:\n",
    "        next_direction = random.choice(direction)"
   ]
  },
  {
   "cell_type": "markdown",
   "metadata": {},
   "source": [
    "#### 1.3 Gradient Descent"
   ]
  },
  {
   "cell_type": "code",
   "execution_count": 31,
   "metadata": {},
   "outputs": [],
   "source": [
    "def partial_k(x, y, y_hat):\n",
    "    n = len(y)\n",
    "\n",
    "    gradient = 0\n",
    "    \n",
    "    for x_i, y_i, y_hat_i in zip(list(x), list(y), list(y_hat)):\n",
    "        gradient += (y_i - y_hat_i) * x_i\n",
    "    \n",
    "    return -2 / n * gradient\n",
    "\n",
    "\n",
    "def partial_b(x, y, y_hat):\n",
    "    n = len(y)\n",
    "\n",
    "    gradient = 0\n",
    "    \n",
    "    for y_i, y_hat_i in zip(list(y), list(y_hat)):\n",
    "        gradient += (y_i - y_hat_i)\n",
    "    \n",
    "    return -2 / n * gradient"
   ]
  },
  {
   "cell_type": "code",
   "execution_count": 32,
   "metadata": {},
   "outputs": [
    {
     "name": "stdout",
     "output_type": "stream",
     "text": [
      "When time is : 0, get best_k: 16.498159414896858 best_b: -81.76612967518194, and the loss is: 343381.40354425117\n",
      "When time is : 50, get best_k: 16.498159414896858 best_b: -81.76612967518194, and the loss is: 150828.09752115022\n",
      "When time is : 100, get best_k: 16.498159414896858 best_b: -81.76612967518194, and the loss is: 66269.03158823276\n",
      "When time is : 150, get best_k: 16.498159414896858 best_b: -81.76612967518194, and the loss is: 29135.232058377456\n",
      "When time is : 200, get best_k: 16.498159414896858 best_b: -81.76612967518194, and the loss is: 12828.060796424968\n",
      "When time is : 250, get best_k: 16.498159414896858 best_b: -81.76612967518194, and the loss is: 5666.825402008416\n",
      "When time is : 300, get best_k: 16.498159414896858 best_b: -81.76612967518194, and the loss is: 2521.993518670931\n",
      "When time is : 350, get best_k: 16.498159414896858 best_b: -81.76612967518194, and the loss is: 1140.9502076685583\n",
      "When time is : 400, get best_k: 16.498159414896858 best_b: -81.76612967518194, and the loss is: 534.4680483251667\n",
      "When time is : 450, get best_k: 16.498159414896858 best_b: -81.76612967518194, and the loss is: 268.1315207102136\n",
      "When time is : 500, get best_k: 16.498159414896858 best_b: -81.76612967518194, and the loss is: 151.1686749038337\n",
      "When time is : 550, get best_k: 16.498159414896858 best_b: -81.76612967518194, and the loss is: 99.8027230001128\n",
      "When time is : 600, get best_k: 16.498159414896858 best_b: -81.76612967518194, and the loss is: 77.24340209722429\n",
      "When time is : 650, get best_k: 16.498159414896858 best_b: -81.76612967518194, and the loss is: 67.33440591721178\n",
      "When time is : 700, get best_k: 16.498159414896858 best_b: -81.76612967518194, and the loss is: 62.980753017669\n",
      "When time is : 750, get best_k: 16.498159414896858 best_b: -81.76612967518194, and the loss is: 61.06670884868206\n",
      "When time is : 800, get best_k: 16.498159414896858 best_b: -81.76612967518194, and the loss is: 60.22401024214754\n",
      "When time is : 850, get best_k: 16.498159414896858 best_b: -81.76612967518194, and the loss is: 59.851789547944946\n",
      "When time is : 900, get best_k: 16.498159414896858 best_b: -81.76612967518194, and the loss is: 59.68617798594959\n",
      "When time is : 950, get best_k: 16.498159414896858 best_b: -81.76612967518194, and the loss is: 59.611298568687765\n",
      "When time is : 1000, get best_k: 16.498159414896858 best_b: -81.76612967518194, and the loss is: 59.576264350617706\n",
      "When time is : 1050, get best_k: 16.498159414896858 best_b: -81.76612967518194, and the loss is: 59.55872851990789\n",
      "When time is : 1100, get best_k: 16.498159414896858 best_b: -81.76612967518194, and the loss is: 59.548877557643955\n",
      "When time is : 1150, get best_k: 16.498159414896858 best_b: -81.76612967518194, and the loss is: 59.542401893594075\n",
      "When time is : 1200, get best_k: 16.498159414896858 best_b: -81.76612967518194, and the loss is: 59.537408995993836\n",
      "When time is : 1250, get best_k: 16.498159414896858 best_b: -81.76612967518194, and the loss is: 59.533067766476755\n",
      "When time is : 1300, get best_k: 16.498159414896858 best_b: -81.76612967518194, and the loss is: 59.52901323118112\n",
      "When time is : 1350, get best_k: 16.498159414896858 best_b: -81.76612967518194, and the loss is: 59.52508511307711\n",
      "When time is : 1400, get best_k: 16.498159414896858 best_b: -81.76612967518194, and the loss is: 59.52121302698259\n",
      "When time is : 1450, get best_k: 16.498159414896858 best_b: -81.76612967518194, and the loss is: 59.51736606338421\n",
      "When time is : 1500, get best_k: 16.498159414896858 best_b: -81.76612967518194, and the loss is: 59.513530648360685\n",
      "When time is : 1550, get best_k: 16.498159414896858 best_b: -81.76612967518194, and the loss is: 59.50970082085106\n",
      "When time is : 1600, get best_k: 16.498159414896858 best_b: -81.76612967518194, and the loss is: 59.50587396295375\n",
      "When time is : 1650, get best_k: 16.498159414896858 best_b: -81.76612967518194, and the loss is: 59.50204892490313\n",
      "When time is : 1700, get best_k: 16.498159414896858 best_b: -81.76612967518194, and the loss is: 59.49822520165973\n",
      "When time is : 1750, get best_k: 16.498159414896858 best_b: -81.76612967518194, and the loss is: 59.49440257131347\n",
      "When time is : 1800, get best_k: 16.498159414896858 best_b: -81.76612967518194, and the loss is: 59.4905809362894\n",
      "When time is : 1850, get best_k: 16.498159414896858 best_b: -81.76612967518194, and the loss is: 59.48676025361387\n",
      "When time is : 1900, get best_k: 16.498159414896858 best_b: -81.76612967518194, and the loss is: 59.48294050429146\n",
      "When time is : 1950, get best_k: 16.498159414896858 best_b: -81.76612967518194, and the loss is: 59.47912167985635\n"
     ]
    }
   ],
   "source": [
    "trying_times = 2000\n",
    "\n",
    "X, y = data['data'], data['target']\n",
    "\n",
    "min_loss = float('inf') \n",
    "\n",
    "current_k = random.random() * 200 - 100\n",
    "current_b = random.random() * 200 - 100\n",
    "\n",
    "learning_rate = 1e-04\n",
    "\n",
    "\n",
    "update_time = 0\n",
    "\n",
    "for i in range(trying_times):\n",
    "    \n",
    "    price_by_k_and_b = [price(r, current_k, current_b) for r in X_rm]\n",
    "    \n",
    "    current_loss = loss(y, price_by_k_and_b)\n",
    "\n",
    "    if current_loss < min_loss: # performance became better\n",
    "        min_loss = current_loss\n",
    "        \n",
    "        if i % 50 == 0: \n",
    "            print('When time is : {}, get best_k: {} best_b: {}, and the loss is: {}'.format(i, best_k, best_b, min_loss))\n",
    "\n",
    "    k_gradient = partial_k(X_rm, y, price_by_k_and_b)\n",
    "    \n",
    "    b_gradient = partial_b(X_rm, y, price_by_k_and_b)\n",
    "    \n",
    "    current_k = current_k + (-1 * k_gradient) * learning_rate\n",
    "\n",
    "    current_b = current_b + (-1 * b_gradient) * learning_rate"
   ]
  },
  {
   "cell_type": "markdown",
   "metadata": {},
   "source": [
    "## 2. Answer following questions:\n",
    "\n",
    "\n",
    "###### 1. Why do we need machine learning methods instead of creating a complicated formula?\n"
   ]
  },
  {
   "cell_type": "markdown",
   "metadata": {},
   "source": [
    "Ans:  \n",
    "Machine learning methods could learn from data automatically, but creating complicated formula needs human experience and usually impossible to represent all the features."
   ]
  },
  {
   "cell_type": "markdown",
   "metadata": {},
   "source": [
    "###### 2.  Wha't's the disadvantages of `the 1st Random Choosen` methods in our course? "
   ]
  },
  {
   "cell_type": "markdown",
   "metadata": {},
   "source": [
    "Ans:  \n",
    "Lots of trying are useless."
   ]
  },
  {
   "cell_type": "markdown",
   "metadata": {},
   "source": [
    "###### 3. Is the `2nd method supervised direction` better than 1st one?  What's the disadvantages of `the 2nd supversied directin` method? "
   ]
  },
  {
   "cell_type": "markdown",
   "metadata": {},
   "source": [
    "Ans:  \n",
    "From the result above, the 2nd method is not better than 1st one. It may because the \"step range\" is fixed and only 4 directions. It is easier to step over the optimal point."
   ]
  },
  {
   "cell_type": "markdown",
   "metadata": {},
   "source": [
    "###### 4. Why do we use `Derivative / Gredient` to fit a target function? "
   ]
  },
  {
   "cell_type": "markdown",
   "metadata": {},
   "source": [
    "Ans:  \n",
    "We use the gredient to choose the direction/"
   ]
  },
  {
   "cell_type": "markdown",
   "metadata": {},
   "source": [
    "###### 5. In the words 'Gredient Descent', what's the `Gredient` and what's the `Descent`?"
   ]
  },
  {
   "cell_type": "markdown",
   "metadata": {},
   "source": [
    "Ans:\n",
    "Gredient is derivative and Descent is always choose the most steep direction to updating the weight."
   ]
  },
  {
   "cell_type": "markdown",
   "metadata": {},
   "source": [
    "###### 6. What's the advantages of `the 3rd gradient descent method` compared to the previous methods?"
   ]
  },
  {
   "cell_type": "markdown",
   "metadata": {},
   "source": [
    "Ans:\n",
    "It is easier to find the optimal point"
   ]
  },
  {
   "cell_type": "markdown",
   "metadata": {},
   "source": [
    "###### 7. Using the simple words to describe: What's the machine leanring."
   ]
  },
  {
   "cell_type": "markdown",
   "metadata": {},
   "source": [
    "Ans:  \n",
    "Using the data to fit a model that could be used to predict the unseen data."
   ]
  },
  {
   "cell_type": "markdown",
   "metadata": {},
   "source": [
    "## 3. Finish the search problem"
   ]
  },
  {
   "cell_type": "markdown",
   "metadata": {},
   "source": [
    "Please using the search policy to implement an agent. This agent receives two input, one is @param start station and the other is @param destination. Your agent should give the optimal route based on Beijing Subway system. "
   ]
  },
  {
   "cell_type": "markdown",
   "metadata": {},
   "source": [
    "> Deadline: 2019-July-13\n",
    "\n",
    ">Submit: Submit the source code and result to github. \n",
    "\n"
   ]
  },
  {
   "cell_type": "markdown",
   "metadata": {},
   "source": [
    "![](https://timgsa.baidu.com/timg?image&quality=80&size=b9999_10000&sec=1562414356407&di=b57814aafd215bb8b8d9d8cd37c573d6&imgtype=0&src=http%3A%2F%2Fcli.clewm.net%2Ffile%2F2015%2F03%2F24%2F174ed60082b8422ac0636cfd3efb9e7f.jpg)"
   ]
  },
  {
   "cell_type": "markdown",
   "metadata": {},
   "source": [
    "#### Dataflow: "
   ]
  },
  {
   "cell_type": "markdown",
   "metadata": {},
   "source": [
    "##### 1.\tGet data from web page.\n",
    "\n",
    "> a.\tGet web page source from: https://baike.baidu.com/item/%E5%8C%97%E4%BA%AC%E5%9C%B0%E9%93%81/408485\n",
    "\n",
    "> b.\tYou may need @package **requests**[https://2.python-requests.org/en/master/] page to get the response via url\n",
    "\n",
    "> c.\tYou may need save the page source to file system.\n",
    "\n",
    "> d.\tThe target of this step is to get station information of all the subway lines;\n",
    "\n",
    "> e.\tYou may need install @package beautiful soup[https://www.crummy.com/software/BeautifulSoup/bs4/doc/]  to get the url information, or just use > Regular Expression to get the url.  Our recommendation is that using the Regular Expression and BeautiflSoup both. \n",
    "\n",
    "> f.\tYou may need BFS to get all the related page url from one url. \n",
    "Question: Why do we use BFS to traverse web page (or someone said, build a web spider)?  Can DFS do this job? which is better? "
   ]
  },
  {
   "cell_type": "markdown",
   "metadata": {},
   "source": [
    "##### 2.\tPreprocessing data from page source.\n",
    "\n",
    "> a.\tBased on the page source gotten from url. You may need some more preprocessing of the page. \n",
    "\n",
    "> b.\tthe Regular Expression you may need to process the text information.\n",
    "\n",
    "> c.\tYou may need @package networkx, @package matplotlib to visualize data. \n",
    "\n",
    "> d.\tYou should build a dictionary or graph which could represent the connection information of Beijing subway routes. \n",
    "\n",
    "> e.\tYou may need the defaultdict, set data structures to implement this procedure. "
   ]
  },
  {
   "cell_type": "markdown",
   "metadata": {},
   "source": [
    "##### 3. Build the search agent\n",
    "\n",
    "> Build the search agent based on the graph we build.\n",
    "\n",
    "for example, when you run: \n",
    "\n",
    "```python\n",
    ">>> search('奥体中心', '天安门') \n",
    "```\n",
    "you need get the result: \n",
    "\n",
    "奥体中心-> A -> B -> C -> ... -> 天安门\n",
    "\n"
   ]
  },
  {
   "cell_type": "markdown",
   "metadata": {},
   "source": [
    "## （Optional）Create different policies for transfer system.\n"
   ]
  },
  {
   "cell_type": "markdown",
   "metadata": {},
   "source": [
    "以下部门为可选部分，请酌情完成。 并不要求全部同学完成。"
   ]
  },
  {
   "cell_type": "markdown",
   "metadata": {},
   "source": [
    "As much as you can to use the already implemented search agent. You just need to define the **is_goal()**, **get_successor()**, **strategy()** three functions. \n",
    "\n",
    "> a.\tDefine different policies for transfer system. \n",
    "\n",
    "> b.\tSuch as Shortest Path Priority（路程最短优先）, Minimum Transfer Priority(最少换乘优先), Comprehensive Priority(综合优先)\n",
    "\n",
    "> c.\tImplement Continuous transfer. Based on the Agent you implemented, please add this feature: Besides the @param start and @param destination two stations, add some more stations, we called @param by_way, it means, our path should from the start and end, but also include the  @param by_way stations. \n",
    "\n",
    "e.g \n",
    "```\n",
    "1. Input:  start=A,  destination=B, by_way=[C] \n",
    "    Output: [A, … .., C, …. B]\n",
    "2. Input: start=A, destination=B, by_way=[C, D, E]\n",
    "    Output: [A … C … E … D … B]  \n",
    "    # based on your policy, the E station could be reached firstly. \n",
    "![image.png](attachment:image.png)\n",
    "```"
   ]
  },
  {
   "cell_type": "markdown",
   "metadata": {},
   "source": [
    "##### 5.\tTest your result with commercial applications. \n",
    "\n",
    "将你的结果和高德地图或者百度地图进行比较，如果有不同，请分析原因\n"
   ]
  },
  {
   "cell_type": "markdown",
   "metadata": {},
   "source": [
    "恭喜，完成本次课程，你对常用的人工智能方法以及有一定的了解了。基于规则的，基于概率模型的，基于搜索的，基于机器学习的。 可以说，我们现在通常见到的方法都能够归属到这几类方法中。 这就是**人工智能**，并没有很难是吧？ 继续加油！"
   ]
  },
  {
   "cell_type": "markdown",
   "metadata": {},
   "source": [
    "![](https://timgsa.baidu.com/timg?image&quality=80&size=b9999_10000&sec=1562415163815&di=4b29a2a863a8285212033760f288ed7a&imgtype=0&src=http%3A%2F%2F5b0988e595225.cdn.sohucs.com%2Fimages%2F20180710%2F8704194a1d7f46a383ddc29d40c9bca5.jpeg)"
   ]
  }
 ],
 "metadata": {
  "kernelspec": {
   "display_name": "Python 3",
   "language": "python",
   "name": "python3"
  },
  "language_info": {
   "codemirror_mode": {
    "name": "ipython",
    "version": 3
   },
   "file_extension": ".py",
   "mimetype": "text/x-python",
   "name": "python",
   "nbconvert_exporter": "python",
   "pygments_lexer": "ipython3",
   "version": "3.7.3"
  }
 },
 "nbformat": 4,
 "nbformat_minor": 2
}
